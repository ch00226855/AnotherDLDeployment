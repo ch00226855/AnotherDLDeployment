{
  "nbformat": 4,
  "nbformat_minor": 0,
  "metadata": {
    "kernelspec": {
      "display_name": "Python 3",
      "language": "python",
      "name": "python3"
    },
    "language_info": {
      "codemirror_mode": {
        "name": "ipython",
        "version": 3
      },
      "file_extension": ".py",
      "mimetype": "text/x-python",
      "name": "python",
      "nbconvert_exporter": "python",
      "pygments_lexer": "ipython3",
      "version": "3.8.3"
    },
    "colab": {
      "name": "Week1_IntroToPython.ipynb",
      "provenance": [],
      "collapsed_sections": [],
      "include_colab_link": true
    }
  },
  "cells": [
    {
      "cell_type": "markdown",
      "metadata": {
        "id": "view-in-github",
        "colab_type": "text"
      },
      "source": [
        "<a href=\"https://colab.research.google.com/github/ch00226855/AnotherDLDeployment/blob/master/Week1_IntroToPython.ipynb\" target=\"_parent\"><img src=\"https://colab.research.google.com/assets/colab-badge.svg\" alt=\"Open In Colab\"/></a>"
      ]
    },
    {
      "cell_type": "markdown",
      "metadata": {
        "id": "Lz5BrMH3Toom"
      },
      "source": [
        "# Week 1\n",
        "# Introduction to Python\n",
        "\n",
        "Python is today's most popular programming language. It is easy to learn, and has several very powerful scientific computing libraries, making it a powerful environment for scientific computing.\n",
        "\n",
        "This tutorial will cover basic features of python and two of its libraries: numpy and matplotlib.\n",
        "\n",
        "This notebook can be opened in Google Colab via this button:\n",
        "\n",
        "<a href=\"https://colab.research.google.com/github/ch00226855/CMP414765Spring2021/blob/main/IntroToPython.ipynb\" target=\"_parent\"><img src=\"https://colab.research.google.com/assets/colab-badge.svg\" alt=\"Open In Colab\"/></a>"
      ]
    },
    {
      "cell_type": "markdown",
      "metadata": {
        "id": "QVQGk8J7dxP1"
      },
      "source": [
        "## 1. Hello World"
      ]
    },
    {
      "cell_type": "code",
      "metadata": {
        "id": "hb1QWIR-Toou"
      },
      "source": [
        "# Print Hello World\r\n",
        "\r\n",
        "print(\"Hello World\")"
      ],
      "execution_count": null,
      "outputs": []
    },
    {
      "cell_type": "markdown",
      "metadata": {
        "id": "TRyN_aCIdkii"
      },
      "source": [
        "## 2. Variables\r\n",
        "- Declare a variable\r\n",
        "- Variable types"
      ]
    },
    {
      "cell_type": "code",
      "metadata": {
        "id": "X_G-ucJbd4m5"
      },
      "source": [
        "# Variable are declared without specifying types\r\n",
        "a = 4\r\n",
        "b = -5\r\n",
        "print(a + b)"
      ],
      "execution_count": null,
      "outputs": []
    },
    {
      "cell_type": "code",
      "metadata": {
        "id": "FqO3FNvId-pI"
      },
      "source": [
        "# The type of a variable is automatically determined\r\n",
        "a1 = 4\r\n",
        "a2 = \"4\"\r\n",
        "print(type(a1))\r\n",
        "print(type(a2))"
      ],
      "execution_count": null,
      "outputs": []
    },
    {
      "cell_type": "code",
      "metadata": {
        "id": "OLj0R_VqeLIS"
      },
      "source": [
        "# Other commonly-used types are float and boolean\r\n",
        "c = 1.5\r\n",
        "d = True\r\n",
        "print(type(c))\r\n",
        "print(type(d))"
      ],
      "execution_count": null,
      "outputs": []
    },
    {
      "cell_type": "code",
      "metadata": {
        "id": "3dHuCZtueV2D"
      },
      "source": [
        "# Variable types can be changed like this:\r\n",
        "float_a = float(a)\r\n",
        "\r\n",
        "# Exercise: show the variable type of float_a\r\n",
        "\r\n",
        "print(type(float_a))"
      ],
      "execution_count": null,
      "outputs": []
    },
    {
      "cell_type": "markdown",
      "metadata": {
        "id": "j5khvCpgeezq"
      },
      "source": [
        "## 3. Arithmetics"
      ]
    },
    {
      "cell_type": "code",
      "metadata": {
        "id": "0igCkYAdeku-"
      },
      "source": [
        "# +, -, *, /"
      ],
      "execution_count": null,
      "outputs": []
    },
    {
      "cell_type": "code",
      "metadata": {
        "id": "I0WohlTFeobE"
      },
      "source": [
        "# // -> integer division\r\n",
        "print(4 / 3) # gives a floating point number\r\n",
        "print(4 // 3) # integer division always give an integer as answer"
      ],
      "execution_count": null,
      "outputs": []
    },
    {
      "cell_type": "code",
      "metadata": {
        "id": "wYXg_9Fnexhj"
      },
      "source": [
        "# % -> Get remainder from integer division\r\n",
        "print(5 % 3) "
      ],
      "execution_count": null,
      "outputs": []
    },
    {
      "cell_type": "code",
      "metadata": {
        "id": "vpjAWYCze1kM"
      },
      "source": [
        "# ** -> powers\r\n",
        "print(3 ** 2) # represents 3 to the power of 2 = 9\r\n",
        "print(3 ** (1/2)) # square root of 3"
      ],
      "execution_count": null,
      "outputs": []
    },
    {
      "cell_type": "markdown",
      "metadata": {
        "id": "oVGyc0Ege73q"
      },
      "source": [
        "Exercise: quadratic formula:\r\n",
        "\r\n",
        "$x = \\frac{-b \\pm \\sqrt{b^2 - 4ac}}{2a}$"
      ]
    },
    {
      "cell_type": "code",
      "metadata": {
        "id": "NOI9dMrme-vB"
      },
      "source": [
        "# Use quadratic formulat to solve equation x**2 - 5x + 4 = 0\r\n",
        "a = 1\r\n",
        "b = -5\r\n",
        "c = 4\r\n",
        "\r\n",
        "x1 = \r\n",
        "x2 = \r\n",
        "\r\n",
        "print(x1, x2)"
      ],
      "execution_count": null,
      "outputs": []
    },
    {
      "cell_type": "markdown",
      "metadata": {
        "id": "cRyFUKAwfWJS"
      },
      "source": [
        "## 4. Assignment Operators"
      ]
    },
    {
      "cell_type": "code",
      "metadata": {
        "id": "Ws6n-DSdfeKR"
      },
      "source": [
        "a = 1\r\n",
        "a += 1 # a = a + 1\r\n",
        "print(a)"
      ],
      "execution_count": null,
      "outputs": []
    },
    {
      "cell_type": "code",
      "metadata": {
        "id": "hMK9CWGSfh2R"
      },
      "source": [
        "b, c, d = 2, 3, 4\r\n",
        "b -= 5\r\n",
        "c *= 10\r\n",
        "d /= 2\r\n",
        "print(b, c, d)"
      ],
      "execution_count": null,
      "outputs": []
    },
    {
      "cell_type": "markdown",
      "metadata": {
        "id": "mboXt1rtfiW8"
      },
      "source": [
        "## 5. Logical Operators"
      ]
    },
    {
      "cell_type": "code",
      "metadata": {
        "id": "RRsX5UM3fk9A"
      },
      "source": [
        "t, f = True, False\r\n",
        "print(t, f)"
      ],
      "execution_count": null,
      "outputs": []
    },
    {
      "cell_type": "code",
      "metadata": {
        "id": "vjU1ZTcmfl49"
      },
      "source": [
        "print(True or False) # \"or\" means or\r\n",
        "print(True and False) # \"and\" means and\r\n",
        "print(not True)\r\n",
        "print(not False)"
      ],
      "execution_count": null,
      "outputs": []
    },
    {
      "cell_type": "code",
      "metadata": {
        "id": "U0BJn7LffnPu"
      },
      "source": [
        "# Comparisons: >, <, ==, !=, >=, <=\r\n",
        "exp1 = (a > 5) and (b < 3)\r\n",
        "print(a, b, exp1)"
      ],
      "execution_count": null,
      "outputs": []
    },
    {
      "cell_type": "markdown",
      "metadata": {
        "id": "jzsZKSN-fpMn"
      },
      "source": [
        "## 6. Strings"
      ]
    },
    {
      "cell_type": "code",
      "metadata": {
        "id": "5kzC2YhRfrUB"
      },
      "source": [
        "str1 = \"Hello\"\r\n",
        "str2 = 'World'\r\n",
        "str3 = '3'\r\n",
        "print(type(str3))\r\n",
        "print(str1 + str2 + str3) # Use \"+\" to concatenate strings\r\n",
        "print(\"My \\n Name \\n Is \\t Liang.\")\r\n",
        "print('I said \"Good Morning\"') # If the string contains \"\", then use '' to define the string\r\n",
        "print(\"I said \\\"Good Morning\\\"\")"
      ],
      "execution_count": null,
      "outputs": []
    },
    {
      "cell_type": "code",
      "metadata": {
        "id": "rBzL3xRGfuTd"
      },
      "source": [
        "# Remove extra space at the beginning and the end of a string\r\n",
        "data_value = \"     Liang Zhao     \"\r\n",
        "my_name = \"Liang Zhao\"\r\n",
        "print(data_value == my_name)\r\n",
        "print(data_value.strip())"
      ],
      "execution_count": null,
      "outputs": []
    },
    {
      "cell_type": "code",
      "metadata": {
        "id": "ODUH7f93fywM"
      },
      "source": [
        "# Split a string\r\n",
        "file_names = \"Alex, Bob, Clare, David\"\r\n",
        "file_names.split(\", \")"
      ],
      "execution_count": null,
      "outputs": []
    },
    {
      "cell_type": "code",
      "metadata": {
        "id": "RMVTAFyvf0R3"
      },
      "source": [
        "# String formatting\r\n",
        "float_num = 45.67898765\r\n",
        "print(float_num)\r\n",
        "print(\"%5.2f\" % (float_num))\r\n",
        "formatted_string = \"Name: %10s | Score: %5d | Value: %.2f\" % (\"Alex\", 89, 12.345)\r\n",
        "print(formatted_string)\r\n",
        "formatted_string = \"Name: %10s | Score: %5d | Value: %.2f\" % (\"Bob\", 9, 543.21)\r\n",
        "print(formatted_string)"
      ],
      "execution_count": null,
      "outputs": []
    },
    {
      "cell_type": "markdown",
      "metadata": {
        "id": "MaW9r2J9f4Y3"
      },
      "source": [
        "## 7. Data Containers\r\n",
        "Data containers are structures used to contain multiple values. "
      ]
    },
    {
      "cell_type": "code",
      "metadata": {
        "id": "vyWnAkAWgCLa"
      },
      "source": [
        "# List\r\n",
        "list1 = [1, 2, 3, 4, 6.5, \"Monday\", True]"
      ],
      "execution_count": null,
      "outputs": []
    },
    {
      "cell_type": "code",
      "metadata": {
        "id": "5zur4jongEFu"
      },
      "source": [
        "print(list1)\r\n",
        "list1.append(12)\r\n",
        "print(list1)"
      ],
      "execution_count": null,
      "outputs": []
    },
    {
      "cell_type": "code",
      "metadata": {
        "id": "uMP2tVcjgF8J"
      },
      "source": [
        "val = list1.pop()\r\n",
        "print(val)\r\n",
        "print(list1)"
      ],
      "execution_count": null,
      "outputs": []
    },
    {
      "cell_type": "code",
      "metadata": {
        "id": "t2bXvoYwgHct"
      },
      "source": [
        "# Indexing\r\n",
        "print(list1[0])\r\n",
        "print(list1[1])\r\n",
        "print(list1[-1])\r\n",
        "print(list1[-2])\r\n",
        "print(list1[2:5]) # the second index is exclusive\r\n",
        "print(list1[:5]) # omitting the first index means starting from 0\r\n",
        "print(list1[2:]) # omitting the second index means going to the end\r\n",
        "print(list1[:]) "
      ],
      "execution_count": null,
      "outputs": []
    },
    {
      "cell_type": "code",
      "metadata": {
        "id": "A_7NLo32gJWF"
      },
      "source": [
        "len(list1)"
      ],
      "execution_count": null,
      "outputs": []
    },
    {
      "cell_type": "code",
      "metadata": {
        "id": "u60JO2tagLLg"
      },
      "source": [
        "# Set\r\n",
        "set1 = {1, 2, 3, 3, 2, 1}\r\n",
        "print(set1)"
      ],
      "execution_count": null,
      "outputs": []
    },
    {
      "cell_type": "code",
      "metadata": {
        "id": "WglaNODSgNI8"
      },
      "source": [
        "# Tuple\r\n",
        "tuple1 = (1, 2, 3)\r\n",
        "tuple2 = (2, 3, 1)\r\n",
        "print(tuple1 == tuple2)"
      ],
      "execution_count": null,
      "outputs": []
    },
    {
      "cell_type": "code",
      "metadata": {
        "id": "JnK4x1psgPcE"
      },
      "source": [
        "# Dictionary: (key, value)\r\n",
        "dict1 = {\"Alex\": \"A\",\r\n",
        "         \"Bob\": \"B\", \r\n",
        "         \"Clare\": \"C\"}\r\n",
        "print(dict1['Alex'])\r\n",
        "print(dict1['Clare'])"
      ],
      "execution_count": null,
      "outputs": []
    },
    {
      "cell_type": "markdown",
      "metadata": {
        "id": "lLbW09mIAv0p"
      },
      "source": [
        "### 8. Loops and Branches"
      ]
    },
    {
      "cell_type": "code",
      "metadata": {
        "id": "Y5PZXQBhAy9H"
      },
      "source": [
        "names = ['Alex', 'Bob', 'Clare']\r\n",
        "for name in names: # for (variable) in (list of values):\r\n",
        "    print(dict1[name]) # Use indentation (4 spaces) to indicate the loop body"
      ],
      "execution_count": null,
      "outputs": []
    },
    {
      "cell_type": "code",
      "metadata": {
        "id": "tsHO6rDeA22Y"
      },
      "source": [
        "a = 2\r\n",
        "if a > 0:\r\n",
        "    print(\"Greater than zero.\")\r\n",
        "else: \r\n",
        "    print(\"Not greater than zero.\")"
      ],
      "execution_count": null,
      "outputs": []
    },
    {
      "cell_type": "code",
      "metadata": {
        "id": "1lbDjThfA5wt"
      },
      "source": [
        "a = 2\r\n",
        "b = 4\r\n",
        "if a < 0:\r\n",
        "    print(\"a less than zero\")\r\n",
        "elif b > 0: # \"elif\" means \"else if\"\r\n",
        "    print(\"a not less than zero, and b greater than zero\")\r\n",
        "else:\r\n",
        "    print(\"neither is greater than zero\")"
      ],
      "execution_count": null,
      "outputs": []
    },
    {
      "cell_type": "markdown",
      "metadata": {
        "id": "FGVmRCqAA7ro"
      },
      "source": [
        "### 9. Functions"
      ]
    },
    {
      "cell_type": "code",
      "metadata": {
        "id": "SsuWRfZbA-CX"
      },
      "source": [
        "def sum_of_list(list1):\r\n",
        "    sum = 0\r\n",
        "    for x in list1:\r\n",
        "        sum += x\r\n",
        "    return sum"
      ],
      "execution_count": null,
      "outputs": []
    },
    {
      "cell_type": "code",
      "metadata": {
        "id": "DE48EenVBDwP"
      },
      "source": [
        "sum_of_list(list1)"
      ],
      "execution_count": null,
      "outputs": []
    },
    {
      "cell_type": "code",
      "metadata": {
        "id": "lGXdJHiFBFGg"
      },
      "source": [
        "# Exercise: Create a funtion that finds the maximum value of a list\r\n",
        "def find_maximum(list1):\r\n",
        "    pass\r\n"
      ],
      "execution_count": null,
      "outputs": []
    },
    {
      "cell_type": "markdown",
      "metadata": {
        "id": "-vcua-N0BLNG"
      },
      "source": [
        "## 10. Classes"
      ]
    },
    {
      "cell_type": "code",
      "metadata": {
        "id": "0a1Fjmt0BWDA"
      },
      "source": [
        "class Person():\r\n",
        "\r\n",
        "    def __init__(self, name, age):\r\n",
        "        self.name = name\r\n",
        "        self.age = age\r\n",
        "        print(\"Person object created.\")\r\n",
        "\r\n",
        "    def print(self):\r\n",
        "        print(\"Name:\", self.name, \" | Age: \", self.age)"
      ],
      "execution_count": null,
      "outputs": []
    },
    {
      "cell_type": "code",
      "metadata": {
        "id": "0S57MJgLBliW"
      },
      "source": [
        "alice = Person(\"Alice\", 25)"
      ],
      "execution_count": null,
      "outputs": []
    },
    {
      "cell_type": "code",
      "metadata": {
        "id": "DqXJCNdmBoU8"
      },
      "source": [
        "alice.print()"
      ],
      "execution_count": null,
      "outputs": []
    },
    {
      "cell_type": "code",
      "metadata": {
        "id": "4k54RYN-Bt7b"
      },
      "source": [
        "class Student(Person):\r\n",
        "\r\n",
        "    def __init__(self, name, age, id):\r\n",
        "        super().__init__(name, age)\r\n",
        "        self.id = id\r\n",
        "        print(\"Student object created.\")\r\n",
        "\r\n",
        "    def print(self):\r\n",
        "        super().print()\r\n",
        "        print(\"ID: \", self.id)"
      ],
      "execution_count": null,
      "outputs": []
    },
    {
      "cell_type": "code",
      "metadata": {
        "id": "G-8eLyI6B-mL"
      },
      "source": [
        "alice = Student(\"Alice\", 25, 12345)"
      ],
      "execution_count": null,
      "outputs": []
    },
    {
      "cell_type": "code",
      "metadata": {
        "id": "bCNiW-WTCBgr"
      },
      "source": [
        "alice.print()"
      ],
      "execution_count": null,
      "outputs": []
    },
    {
      "cell_type": "markdown",
      "metadata": {
        "id": "_--ha2rYCWA9"
      },
      "source": [
        "## Example Program: Analyze Test Scores\r\n"
      ]
    },
    {
      "cell_type": "code",
      "metadata": {
        "id": "fCLNt7SYDCgH"
      },
      "source": [
        "# A list of student names and a list of students scores are given as follows:\r\n",
        "names = ['Alice', 'Bob', 'Clare', 'David', 'Edward', 'Frank', 'Gabriel']\r\n",
        "scores = [99, 88, 77, 66, 55, 44, 33]"
      ],
      "execution_count": null,
      "outputs": []
    },
    {
      "cell_type": "markdown",
      "metadata": {
        "id": "Vk5_uJlcDYZk"
      },
      "source": [
        "Write a program to find the average score."
      ]
    },
    {
      "cell_type": "code",
      "metadata": {
        "id": "zVTYv48iDfhF"
      },
      "source": [
        "def find_average(scores):\r\n",
        "    \r\n",
        "    pass"
      ],
      "execution_count": null,
      "outputs": []
    },
    {
      "cell_type": "code",
      "metadata": {
        "id": "Lb5EJVO4DjL7"
      },
      "source": [
        ""
      ],
      "execution_count": null,
      "outputs": []
    },
    {
      "cell_type": "markdown",
      "metadata": {
        "id": "Y32MeoalDkl-"
      },
      "source": [
        "Write a program that returns a list of student names who failed the course."
      ]
    },
    {
      "cell_type": "code",
      "metadata": {
        "id": "IWhhAZreDrwN"
      },
      "source": [
        "def who_failed(names, scores)\r\n",
        "\r\n",
        "    pass"
      ],
      "execution_count": null,
      "outputs": []
    },
    {
      "cell_type": "markdown",
      "metadata": {
        "id": "XqloMDfjEGiC"
      },
      "source": [
        "Write a program that returns a list of letter grades.\r\n",
        "- A: 90 - 100\r\n",
        "- B: 80 - 89\r\n",
        "- C: 70 - 79\r\n",
        "- D: 60 - 69\r\n",
        "- F: Below 60"
      ]
    },
    {
      "cell_type": "code",
      "metadata": {
        "id": "9c5DUF2UEUdd"
      },
      "source": [
        "def get_letter_grades(scores):\r\n",
        "\r\n",
        "    pass"
      ],
      "execution_count": null,
      "outputs": []
    }
  ]
}